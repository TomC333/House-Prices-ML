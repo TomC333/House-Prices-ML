{
 "cells": [
  {
   "cell_type": "code",
   "execution_count": 1,
   "metadata": {
    "vscode": {
     "languageId": "plaintext"
    }
   },
   "outputs": [
    {
     "name": "stdout",
     "output_type": "stream",
     "text": [
      "/Users/davitdadiani/Desktop/git/House-Prices-ML/input/test.csv\n",
      "/Users/davitdadiani/Desktop/git/House-Prices-ML/input/data_description.txt\n",
      "/Users/davitdadiani/Desktop/git/House-Prices-ML/input/clean_test.csv\n",
      "/Users/davitdadiani/Desktop/git/House-Prices-ML/input/train.csv\n",
      "/Users/davitdadiani/Desktop/git/House-Prices-ML/input/sample_submission.csv\n"
     ]
    },
    {
     "data": {
      "text/html": [
       "<pre style=\"white-space:pre;overflow-x:auto;line-height:normal;font-family:Menlo,'DejaVu Sans Mono',consolas,'Courier New',monospace\">Accessing as TomC333\n",
       "</pre>\n"
      ],
      "text/plain": [
       "Accessing as TomC333\n"
      ]
     },
     "metadata": {},
     "output_type": "display_data"
    },
    {
     "data": {
      "text/html": [
       "<pre style=\"white-space:pre;overflow-x:auto;line-height:normal;font-family:Menlo,'DejaVu Sans Mono',consolas,'Courier New',monospace\">Initialized MLflow to track repo <span style=\"color: #008000; text-decoration-color: #008000\">\"TomC333/House-Prices-ML\"</span>\n",
       "</pre>\n"
      ],
      "text/plain": [
       "Initialized MLflow to track repo \u001b[32m\"TomC333/House-Prices-ML\"\u001b[0m\n"
      ]
     },
     "metadata": {},
     "output_type": "display_data"
    },
    {
     "data": {
      "text/html": [
       "<pre style=\"white-space:pre;overflow-x:auto;line-height:normal;font-family:Menlo,'DejaVu Sans Mono',consolas,'Courier New',monospace\">Repository TomC333/House-Prices-ML initialized!\n",
       "</pre>\n"
      ],
      "text/plain": [
       "Repository TomC333/House-Prices-ML initialized!\n"
      ]
     },
     "metadata": {},
     "output_type": "display_data"
    }
   ],
   "source": [
    "import os \n",
    "\n",
    "import dagshub\n",
    "import mlflow\n",
    "\n",
    "import pandas as pd\n",
    "\n",
    "cwd = os.getcwd()\n",
    "\n",
    "for dirname, _, filenames in os.walk(f'{cwd}/input'):\n",
    "  for filename in filenames:\n",
    "    print(os.path.join(dirname, filename))\n",
    "\n",
    "test_df = pd.read_csv(f'{cwd}/input/clean_test.csv')\n",
    "test_df = test_df.astype('float64')\n",
    "logged_model = 'runs:/5094a9aa19b04d189d1e4a780ef941a6/DummyRegressor'\n",
    "\n",
    "dagshub.init(repo_owner='TomC333', repo_name='House-Prices-ML', mlflow=True)\n",
    "\n",
    "# Load model as a PyFuncModel.\n",
    "loaded_model = mlflow.pyfunc.load_model(logged_model)"
   ]
  },
  {
   "cell_type": "code",
   "execution_count": 2,
   "metadata": {},
   "outputs": [
    {
     "data": {
      "text/plain": [
       "TotalFinishedSF          0\n",
       "TotalLivingSF            0\n",
       "OverallQual              0\n",
       "GrLivArea                0\n",
       "ExterQual                0\n",
       "                        ..\n",
       "SaleCondition_AdjLand    0\n",
       "SaleCondition_Alloca     0\n",
       "SaleCondition_Family     0\n",
       "SaleCondition_Normal     0\n",
       "SaleCondition_Partial    0\n",
       "Length: 64, dtype: int64"
      ]
     },
     "execution_count": 2,
     "metadata": {},
     "output_type": "execute_result"
    }
   ],
   "source": [
    "test_df.isnull().sum()"
   ]
  },
  {
   "cell_type": "code",
   "execution_count": 3,
   "metadata": {
    "vscode": {
     "languageId": "plaintext"
    }
   },
   "outputs": [
    {
     "name": "stdout",
     "output_type": "stream",
     "text": [
      "Submission file saved at: /Users/davitdadiani/Desktop/git/House-Prices-ML/submission.csv\n"
     ]
    }
   ],
   "source": [
    "predictions = loaded_model.predict(test_df)\n",
    "\n",
    "submission_df = pd.DataFrame({\n",
    "    \"Id\": range(1461, 1461 + len(predictions)),\n",
    "    \"SalePrice\": predictions\n",
    "})\n",
    "\n",
    "submission_df.to_csv(f'{cwd}/output/submission.csv', index=False)\n",
    "\n",
    "print(\"Submission file saved at:\", f'{cwd}/submission.csv')"
   ]
  },
  {
   "cell_type": "code",
   "execution_count": null,
   "metadata": {},
   "outputs": [],
   "source": []
  }
 ],
 "metadata": {
  "kernelspec": {
   "display_name": "Python 3 (ipykernel)",
   "language": "python",
   "name": "python3"
  },
  "language_info": {
   "codemirror_mode": {
    "name": "ipython",
    "version": 3
   },
   "file_extension": ".py",
   "mimetype": "text/x-python",
   "name": "python",
   "nbconvert_exporter": "python",
   "pygments_lexer": "ipython3",
   "version": "3.10.16"
  }
 },
 "nbformat": 4,
 "nbformat_minor": 4
}
